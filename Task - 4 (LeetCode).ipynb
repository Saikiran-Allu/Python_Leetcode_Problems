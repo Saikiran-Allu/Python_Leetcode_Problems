{
 "cells": [
  {
   "cell_type": "markdown",
   "id": "1f51b3c2",
   "metadata": {},
   "source": [
    "### 1.Sort Integers by The Number of 1 Bits\n",
    "You are given an integer array arr. Sort the integers in the array in ascending order by the number of 1's in their binary representation and in case of two or more integers have the same number of 1's you have to sort them in ascending order.\n",
    "\n",
    "Return the array after sorting it."
   ]
  },
  {
   "cell_type": "code",
   "execution_count": null,
   "id": "036e9bf3",
   "metadata": {},
   "outputs": [],
   "source": [
    "class Solution:\n",
    "    def sortByBits(self, arr: List[int]) -> List[int]:\n",
    "        arr.sort()\n",
    "        l=[]\n",
    "        for i in arr:\n",
    "            l.append(bin(i).count('1'))\n",
    "            m=max(l)\n",
    "        l=[]\n",
    "        for i in range(m+1):\n",
    "            for j in arr:\n",
    "                if i==(bin(j).count('1')):\n",
    "                    l.append(j)\n",
    "        return l"
   ]
  },
  {
   "cell_type": "markdown",
   "id": "169e933d",
   "metadata": {},
   "source": [
    "### 2.Single Number III\n",
    "Given an integer array nums, in which exactly two elements appear only once and all the other elements appear exactly twice. Find the two elements that appear only once. You can return the answer in any order.\n",
    "\n",
    "You must write an algorithm that runs in linear runtime complexity and uses only constant extra space."
   ]
  },
  {
   "cell_type": "code",
   "execution_count": null,
   "id": "675f293e",
   "metadata": {},
   "outputs": [],
   "source": [
    "class Solution:\n",
    "    def singleNumber(self, nums: List[int]) -> List[int]:\n",
    "        l=[]\n",
    "        for i in nums:\n",
    "            if nums.count(i)==1:\n",
    "                l.append(i)\n",
    "        return l"
   ]
  },
  {
   "cell_type": "markdown",
   "id": "e66e8a2b",
   "metadata": {},
   "source": [
    "### 3.Subsets\n",
    "Given an integer array nums of unique elements, return all possible \n",
    "subsets\n",
    " (the power set).\n",
    "\n",
    "The solution set must not contain duplicate subsets. Return the solution in any order."
   ]
  },
  {
   "cell_type": "code",
   "execution_count": null,
   "id": "32d76db1",
   "metadata": {},
   "outputs": [],
   "source": [
    "class Solution:\n",
    "    def subsets(self, nums: List[int]) -> List[List[int]]:\n",
    "        l=[]\n",
    "        for i in range(len(nums)+1):\n",
    "            comb = combinations(nums, i)\n",
    "            for j in comb:\n",
    "                l.append(j)\n",
    "        return l"
   ]
  }
 ],
 "metadata": {
  "kernelspec": {
   "display_name": "Python 3 (ipykernel)",
   "language": "python",
   "name": "python3"
  },
  "language_info": {
   "codemirror_mode": {
    "name": "ipython",
    "version": 3
   },
   "file_extension": ".py",
   "mimetype": "text/x-python",
   "name": "python",
   "nbconvert_exporter": "python",
   "pygments_lexer": "ipython3",
   "version": "3.9.7"
  }
 },
 "nbformat": 4,
 "nbformat_minor": 5
}
