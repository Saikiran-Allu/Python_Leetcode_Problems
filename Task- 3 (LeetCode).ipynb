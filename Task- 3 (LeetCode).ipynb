{
 "cells": [
  {
   "cell_type": "markdown",
   "id": "3d1fa546",
   "metadata": {},
   "source": [
    "### 1. Maximum Product of Two Elements in an Array\n",
    "Given the array of integers nums, you will choose two different indices i and j of that array. Return the maximum value of (nums[i]-1)*(nums[j]-1)."
   ]
  },
  {
   "cell_type": "code",
   "execution_count": null,
   "id": "287f37ff",
   "metadata": {},
   "outputs": [],
   "source": [
    "class Solution:\n",
    "    def maxProduct(self, nums: List[int]) -> int:\n",
    "        nums.sort(reverse=True)\n",
    "        return (nums[0]-1) * (nums[1]-1) "
   ]
  },
  {
   "cell_type": "markdown",
   "id": "6c068211",
   "metadata": {},
   "source": [
    "### 2.Count Number of Teams\n",
    "There are n soldiers standing in a line. Each soldier is assigned a unique rating value.\n",
    "\n",
    "You have to form a team of 3 soldiers amongst them under the following rules:\n",
    "\n",
    "Choose 3 soldiers with index (i, j, k) with rating (rating[i], rating[j], rating[k]).\n",
    "\n",
    "A team is valid if: (rating[i] < rating[j] < rating[k]) or (rating[i] > rating[j] > rating[k]) where (0 <= i < j < k < n).\n",
    "\n",
    "Return the number of teams you can form given the conditions. (soldiers can be part of multiple teams)."
   ]
  },
  {
   "cell_type": "code",
   "execution_count": null,
   "id": "5585e5ba",
   "metadata": {},
   "outputs": [],
   "source": [
    "class Solution:\n",
    "    def numTeams(self, rating: List[int]) -> int:\n",
    "        count=0\n",
    "        for  i in range (len(rating)):\n",
    "            for j in range(i+1,len(rating)):\n",
    "                for k in range(j+1,len(rating)):\n",
    "                    if (rating[i] < rating[j] < rating[k]) or (rating[i] > rating[j] > rating[k]):\n",
    "                        count+=1\n",
    "        return count"
   ]
  },
  {
   "cell_type": "markdown",
   "id": "6b5e1291",
   "metadata": {},
   "source": [
    "### 3.Number of Students Doing Homework at a Given Time\n",
    "Given two integer arrays startTime and endTime and given an integer queryTime.\n",
    "\n",
    "The ith student started doing their homework at the time startTime[i] and finished it at time endTime[i].\n",
    "\n",
    "Return the number of students doing their homework at time queryTime. More formally, return the number of students where queryTime lays in the interval [startTime[i], endTime[i]] inclusive."
   ]
  },
  {
   "cell_type": "code",
   "execution_count": null,
   "id": "6644c87b",
   "metadata": {},
   "outputs": [],
   "source": [
    "class Solution:\n",
    "    def busyStudent(self, startTime: List[int], endTime: List[int], queryTime: int) -> int:\n",
    "        count=0\n",
    "        j=0\n",
    "        while j<len(startTime):\n",
    "            for i in range(startTime[j],endTime[j]+1):\n",
    "                if i==queryTime:\n",
    "                    count+=1\n",
    "            j+=1\n",
    "        return count\n"
   ]
  },
  {
   "cell_type": "markdown",
   "id": "a5eddd7f",
   "metadata": {},
   "source": [
    "### 4.Number of Steps to Reduce a Number to Zero\n",
    "Given an integer num, return the number of steps to reduce it to zero.\n",
    "\n",
    "In one step, if the current number is even, you have to divide it by 2, otherwise, you have to subtract 1 from it.\n"
   ]
  },
  {
   "cell_type": "code",
   "execution_count": null,
   "id": "c87bcb1d",
   "metadata": {},
   "outputs": [],
   "source": [
    "class Solution:\n",
    "    def numberOfSteps (self, num: int) -> int:\n",
    "        count=0\n",
    "        while num>0:\n",
    "            count+=1\n",
    "            if num%2==0:\n",
    "                num=num/2\n",
    "            else:\n",
    "                num=num-1\n",
    "        return count"
   ]
  },
  {
   "cell_type": "markdown",
   "id": "573641ee",
   "metadata": {},
   "source": [
    "### 5. Counting Bits\n",
    "Given an integer n, return an array ans of length n + 1 such that for each i (0 <= i <= n), ans[i] is the number of 1's in the binary representation of i."
   ]
  },
  {
   "cell_type": "code",
   "execution_count": null,
   "id": "ca674a72",
   "metadata": {},
   "outputs": [],
   "source": [
    "class Solution:\n",
    "    def countBits(self, num: int) -> List[int]:\n",
    "        l=[]\n",
    "        for i in range(num+1):\n",
    "            x=bin(i)\n",
    "            l.append(x.count('1'))\n",
    "        return l"
   ]
  }
 ],
 "metadata": {
  "kernelspec": {
   "display_name": "Python 3 (ipykernel)",
   "language": "python",
   "name": "python3"
  },
  "language_info": {
   "codemirror_mode": {
    "name": "ipython",
    "version": 3
   },
   "file_extension": ".py",
   "mimetype": "text/x-python",
   "name": "python",
   "nbconvert_exporter": "python",
   "pygments_lexer": "ipython3",
   "version": "3.9.7"
  }
 },
 "nbformat": 4,
 "nbformat_minor": 5
}
