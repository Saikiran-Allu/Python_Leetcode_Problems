{
 "cells": [
  {
   "cell_type": "markdown",
   "id": "c1ce1fb8",
   "metadata": {},
   "source": [
    "### 1.Hamming Distance\n",
    "The Hamming distance between two integers is the number of positions at which the corresponding bits are different.\n",
    "\n",
    "Given two integers x and y, return the Hamming distance between them."
   ]
  },
  {
   "cell_type": "code",
   "execution_count": null,
   "id": "bc22b075",
   "metadata": {},
   "outputs": [],
   "source": [
    "class Solution:\n",
    "    def hammingDistance(self, x: int, y: int) -> int:\n",
    "        a=x^y\n",
    "        count=0\n",
    "        while(a>0):\n",
    "            if a%2!=0:\n",
    "                count+=1\n",
    "            a=a>>1\n",
    "        return count"
   ]
  },
  {
   "cell_type": "markdown",
   "id": "c08d5a03",
   "metadata": {},
   "source": [
    "### 2.Single Number II\n",
    "Given an integer array nums where every element appears three times except for one, which appears exactly once. Find the single element and return it.\n",
    "\n",
    "You must implement a solution with a linear runtime complexity and use only constant extra space.\n"
   ]
  },
  {
   "cell_type": "code",
   "execution_count": null,
   "id": "5d4903c3",
   "metadata": {},
   "outputs": [],
   "source": [
    "class Solution:\n",
    "    def singleNumber(self, nums: List[int]) -> int:\n",
    "        for i in nums:\n",
    "            if(nums.count(i)==1):\n",
    "                return i"
   ]
  }
 ],
 "metadata": {
  "kernelspec": {
   "display_name": "Python 3 (ipykernel)",
   "language": "python",
   "name": "python3"
  },
  "language_info": {
   "codemirror_mode": {
    "name": "ipython",
    "version": 3
   },
   "file_extension": ".py",
   "mimetype": "text/x-python",
   "name": "python",
   "nbconvert_exporter": "python",
   "pygments_lexer": "ipython3",
   "version": "3.9.7"
  }
 },
 "nbformat": 4,
 "nbformat_minor": 5
}
