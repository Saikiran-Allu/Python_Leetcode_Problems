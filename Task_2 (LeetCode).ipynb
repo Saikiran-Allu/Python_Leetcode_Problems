{
 "cells": [
  {
   "cell_type": "markdown",
   "id": "0f80eb71",
   "metadata": {},
   "source": [
    "### 1.Defanging an IP Address\n",
    "Given a valid (IPv4) IP address, return a defanged version of that IP address.\n",
    "\n",
    "A defanged IP address replaces every period \".\" with \"[.]\"."
   ]
  },
  {
   "cell_type": "code",
   "execution_count": 1,
   "id": "a32e5a38",
   "metadata": {},
   "outputs": [],
   "source": [
    "class Solution:\n",
    "    def defangIPaddr(self, address: str) -> str:\n",
    "        str1=\"\"\n",
    "        for i in range(0,len(address)):\n",
    "            if(address[i]=='.'):\n",
    "                str1=str1+'[.]'\n",
    "            else:\n",
    "                str1=str1+address[i]\n",
    "                \n",
    "        return str1"
   ]
  },
  {
   "cell_type": "markdown",
   "id": "95d5583f",
   "metadata": {},
   "source": [
    "### 2.Find Numbers with Even Number of Digits\n",
    "Given an array nums of integers, return how many of them contain an even number of digits."
   ]
  },
  {
   "cell_type": "code",
   "execution_count": null,
   "id": "10d51993",
   "metadata": {},
   "outputs": [],
   "source": [
    "class Solution:\n",
    "    def findNumbers(self, nums: List[int]) -> int:\n",
    "        count=0\n",
    "        for i in range(0,len(nums)):\n",
    "            val=len(str(nums[i]))\n",
    "            if(val%2==0):\n",
    "                count+=1\n",
    "                \n",
    "        return count"
   ]
  },
  {
   "cell_type": "markdown",
   "id": "507882e8",
   "metadata": {},
   "source": [
    "### 3.Number of Good Pairs\n",
    "Given an array of integers nums, return the number of good pairs.\n",
    "\n",
    "A pair (i, j) is called good if nums[i] == nums[j] and i < j."
   ]
  },
  {
   "cell_type": "code",
   "execution_count": null,
   "id": "a9e4170d",
   "metadata": {},
   "outputs": [],
   "source": [
    "class Solution:\n",
    "    def numIdenticalPairs(self, nums: List[int]) -> int:\n",
    "        count=0\n",
    "        for i in range(0,len(nums)):\n",
    "            for j in range(i+1,len(nums)):\n",
    "                if(i<j and nums[i]==nums[j]):\n",
    "                    count+=1\n",
    "                    \n",
    "                    \n",
    "        return count"
   ]
  },
  {
   "cell_type": "markdown",
   "id": "52d35e5e",
   "metadata": {},
   "source": [
    "### 4.How Many Numbers Are Smaller Than the Current Number\n",
    "Given the array nums, for each nums[i] find out how many numbers in the array are smaller than it. That is, for each nums[i] you have to count the number of valid j's such that j != i and nums[j] < nums[i].\n",
    "\n",
    "Return the answer in an array."
   ]
  },
  {
   "cell_type": "code",
   "execution_count": null,
   "id": "5fdd0c6e",
   "metadata": {},
   "outputs": [],
   "source": [
    "class Solution:\n",
    "    def smallerNumbersThanCurrent(self, nums: List[int]) -> List[int]:\n",
    "        \n",
    "        l = [0]*len(nums)\n",
    "        \n",
    "        for i in range(len(nums)):\n",
    "            count=0\n",
    "            for j in range(len(nums)):\n",
    "                if nums[i]>nums[j]:\n",
    "                    count+=1\n",
    "                    \n",
    "            l[i] = count\n",
    "            \n",
    "            \n",
    "        return "
   ]
  },
  {
   "cell_type": "markdown",
   "id": "6c793e09",
   "metadata": {},
   "source": [
    "### 5. Subtract the Product and Sum of Digits of an Integer\n",
    "Given an integer number n, return the difference between the product of its digits and the sum of its digits.\n",
    " "
   ]
  },
  {
   "cell_type": "code",
   "execution_count": null,
   "id": "76171f48",
   "metadata": {},
   "outputs": [],
   "source": [
    "class Solution:\n",
    "    def subtractProductAndSum(self, n: int) -> int:\n",
    "        a = 0\n",
    "        b = 1\n",
    "        while n:\n",
    "            k = n % 10\n",
    "            n //= 10\n",
    "            a += k\n",
    "            b *= k\n",
    "        return b - a"
   ]
  },
  {
   "cell_type": "markdown",
   "id": "552dd26f",
   "metadata": {},
   "source": [
    "### 6.XOR Operation in an Array\n",
    "You are given an integer n and an integer start.\n",
    "\n",
    "Define an array nums where nums[i] = start + 2 * i (0-indexed) and n == nums.length.\n",
    "\n",
    "Return the bitwise XOR of all elements of nums."
   ]
  },
  {
   "cell_type": "markdown",
   "id": "426a935b",
   "metadata": {},
   "source": [
    "class Solution:\n",
    "    def xorOperation(self, n: int, start: int) -> int:\n",
    "        ans = temp = start\n",
    "        for i in range(1, n):\n",
    "            temp += 2  \n",
    "            ans = ans ^ temp\n",
    "        return ans"
   ]
  },
  {
   "cell_type": "code",
   "execution_count": null,
   "id": "190b3351",
   "metadata": {},
   "outputs": [],
   "source": []
  },
  {
   "cell_type": "code",
   "execution_count": null,
   "id": "19df060c",
   "metadata": {},
   "outputs": [],
   "source": []
  }
 ],
 "metadata": {
  "kernelspec": {
   "display_name": "Python 3 (ipykernel)",
   "language": "python",
   "name": "python3"
  },
  "language_info": {
   "codemirror_mode": {
    "name": "ipython",
    "version": 3
   },
   "file_extension": ".py",
   "mimetype": "text/x-python",
   "name": "python",
   "nbconvert_exporter": "python",
   "pygments_lexer": "ipython3",
   "version": "3.9.7"
  }
 },
 "nbformat": 4,
 "nbformat_minor": 5
}
