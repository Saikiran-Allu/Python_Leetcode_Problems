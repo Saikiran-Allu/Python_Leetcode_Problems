{
 "cells": [
  {
   "cell_type": "markdown",
   "id": "7e381aa7",
   "metadata": {},
   "source": [
    "###  1.Running Sum of 1d Array\n",
    "Given an array nums. We define a running sum of an array as\n",
    "runningSum[i] = sum(nums[0]…nums[i]).\n",
    "\n",
    "Return the running sum of nums."
   ]
  },
  {
   "cell_type": "code",
   "execution_count": 8,
   "id": "05c1fa81",
   "metadata": {},
   "outputs": [],
   "source": [
    "from typing import List\n",
    "class Solution:\n",
    "    def runningSum(self, nums: List[int]) -> List[int]:\n",
    "        sum = 0\n",
    "        run_sum = []\n",
    "        for i in range(len(nums)):\n",
    "            sum += nums[i]\n",
    "            run_sum.append(sum)\n",
    "        return run_sum"
   ]
  },
  {
   "cell_type": "markdown",
   "id": "3e528bd7",
   "metadata": {},
   "source": [
    "### 2.Shuffle the Array\n",
    "Given the array nums consisting of 2n elements in the form [x1,x2,...,xn,y1,y2,...,yn].\n",
    "\n",
    "Return the array in the form [x1,y1,x2,y2,...,xn,yn]."
   ]
  },
  {
   "cell_type": "code",
   "execution_count": 14,
   "id": "ca5e4d63",
   "metadata": {},
   "outputs": [],
   "source": [
    "class Solution:\n",
    "    def shuffle(self, nums: List[int], n: int) -> List[int]:\n",
    "        l=[]\n",
    "        for i in range(n):\n",
    "            l.append(nums[i])\n",
    "            l.append(nums[n+i])\n",
    "        return l"
   ]
  },
  {
   "cell_type": "markdown",
   "id": "180eb5a7",
   "metadata": {},
   "source": [
    "### 3.Kids With the Greatest Number of Candies\n",
    "There are n kids with candies. You are given an integer array candies, where each candies[i] represents the number of candies the ith kid has, and an integer extraCandies, denoting the number of extra candies that you have.\n",
    "\n",
    "Return a boolean array result of length n, where result[i] is true if, after giving the ith kid all the extraCandies, they will have the greatest number of candies among all the kids, or false otherwise.\n",
    "\n",
    "Note that multiple kids can have the greatest number of candies."
   ]
  },
  {
   "cell_type": "code",
   "execution_count": 15,
   "id": "3edfdcd3",
   "metadata": {},
   "outputs": [],
   "source": [
    "class Solution:\n",
    "    def kidsWithCandies(self, candies: List[int], extraCandies: int) -> List[bool]:\n",
    "        m=max(candies)\n",
    "        l=[]\n",
    "        for i in candies:\n",
    "            d=i+extraCandies\n",
    "            l.append(not(d<m))\n",
    "        return l"
   ]
  },
  {
   "cell_type": "code",
   "execution_count": null,
   "id": "52ef0e7d",
   "metadata": {},
   "outputs": [],
   "source": []
  }
 ],
 "metadata": {
  "kernelspec": {
   "display_name": "Python 3 (ipykernel)",
   "language": "python",
   "name": "python3"
  },
  "language_info": {
   "codemirror_mode": {
    "name": "ipython",
    "version": 3
   },
   "file_extension": ".py",
   "mimetype": "text/x-python",
   "name": "python",
   "nbconvert_exporter": "python",
   "pygments_lexer": "ipython3",
   "version": "3.9.7"
  }
 },
 "nbformat": 4,
 "nbformat_minor": 5
}
